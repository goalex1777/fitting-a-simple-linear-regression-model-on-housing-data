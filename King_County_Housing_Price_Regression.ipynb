{
 "metadata": {
  "name": "",
  "signature": "sha256:ec85b9aacbd4a2afaa4881a084f83ebf6a1efd2d5046ae20485eb337c77047f8"
 },
 "nbformat": 3,
 "nbformat_minor": 0,
 "worksheets": [
  {
   "cells": [
    {
     "cell_type": "code",
     "collapsed": false,
     "input": [
      "import pandas as pd"
     ],
     "language": "python",
     "metadata": {},
     "outputs": [],
     "prompt_number": 1
    },
    {
     "cell_type": "heading",
     "level": 1,
     "metadata": {},
     "source": [
      "Load King County Training and Testing Data"
     ]
    },
    {
     "cell_type": "code",
     "collapsed": false,
     "input": [
      "kc_training = pd.read_csv('kc_house_train_data.csv', sep = ',', dtype = {'bathrooms':float, 'waterfront':int, 'sqft_above':int, 'sqft_living15':float, 'grade':int, 'yr_renovated':int, 'price':float, 'bedrooms':float, 'zipcode':str, 'long':float, 'sqft_lot15':float, 'sqft_living':float, 'floors':str, 'condition':int, 'lat':float, 'date':str, 'sqft_basement':int, 'yr_built':int, 'id':str, 'sqft_lot':int, 'view':int})"
     ],
     "language": "python",
     "metadata": {},
     "outputs": [],
     "prompt_number": 2
    },
    {
     "cell_type": "code",
     "collapsed": false,
     "input": [
      "kc_training.head()"
     ],
     "language": "python",
     "metadata": {},
     "outputs": [
      {
       "html": [
        "<div style=\"max-height:1000px;max-width:1500px;overflow:auto;\">\n",
        "<table border=\"1\" class=\"dataframe\">\n",
        "  <thead>\n",
        "    <tr style=\"text-align: right;\">\n",
        "      <th></th>\n",
        "      <th>id</th>\n",
        "      <th>date</th>\n",
        "      <th>price</th>\n",
        "      <th>bedrooms</th>\n",
        "      <th>bathrooms</th>\n",
        "      <th>sqft_living</th>\n",
        "      <th>sqft_lot</th>\n",
        "      <th>floors</th>\n",
        "      <th>waterfront</th>\n",
        "      <th>view</th>\n",
        "      <th>...</th>\n",
        "      <th>grade</th>\n",
        "      <th>sqft_above</th>\n",
        "      <th>sqft_basement</th>\n",
        "      <th>yr_built</th>\n",
        "      <th>yr_renovated</th>\n",
        "      <th>zipcode</th>\n",
        "      <th>lat</th>\n",
        "      <th>long</th>\n",
        "      <th>sqft_living15</th>\n",
        "      <th>sqft_lot15</th>\n",
        "    </tr>\n",
        "  </thead>\n",
        "  <tbody>\n",
        "    <tr>\n",
        "      <th>0</th>\n",
        "      <td>7129300520</td>\n",
        "      <td>20141013T000000</td>\n",
        "      <td>221900</td>\n",
        "      <td>3</td>\n",
        "      <td>1.00</td>\n",
        "      <td>1180</td>\n",
        "      <td>5650</td>\n",
        "      <td>1</td>\n",
        "      <td>0</td>\n",
        "      <td>0</td>\n",
        "      <td>...</td>\n",
        "      <td>7</td>\n",
        "      <td>1180</td>\n",
        "      <td>0</td>\n",
        "      <td>1955</td>\n",
        "      <td>0</td>\n",
        "      <td>98178</td>\n",
        "      <td>47.5112</td>\n",
        "      <td>-122.257</td>\n",
        "      <td>1340</td>\n",
        "      <td>5650</td>\n",
        "    </tr>\n",
        "    <tr>\n",
        "      <th>1</th>\n",
        "      <td>6414100192</td>\n",
        "      <td>20141209T000000</td>\n",
        "      <td>538000</td>\n",
        "      <td>3</td>\n",
        "      <td>2.25</td>\n",
        "      <td>2570</td>\n",
        "      <td>7242</td>\n",
        "      <td>2</td>\n",
        "      <td>0</td>\n",
        "      <td>0</td>\n",
        "      <td>...</td>\n",
        "      <td>7</td>\n",
        "      <td>2170</td>\n",
        "      <td>400</td>\n",
        "      <td>1951</td>\n",
        "      <td>1991</td>\n",
        "      <td>98125</td>\n",
        "      <td>47.7210</td>\n",
        "      <td>-122.319</td>\n",
        "      <td>1690</td>\n",
        "      <td>7639</td>\n",
        "    </tr>\n",
        "    <tr>\n",
        "      <th>2</th>\n",
        "      <td>5631500400</td>\n",
        "      <td>20150225T000000</td>\n",
        "      <td>180000</td>\n",
        "      <td>2</td>\n",
        "      <td>1.00</td>\n",
        "      <td>770</td>\n",
        "      <td>10000</td>\n",
        "      <td>1</td>\n",
        "      <td>0</td>\n",
        "      <td>0</td>\n",
        "      <td>...</td>\n",
        "      <td>6</td>\n",
        "      <td>770</td>\n",
        "      <td>0</td>\n",
        "      <td>1933</td>\n",
        "      <td>0</td>\n",
        "      <td>98028</td>\n",
        "      <td>47.7379</td>\n",
        "      <td>-122.233</td>\n",
        "      <td>2720</td>\n",
        "      <td>8062</td>\n",
        "    </tr>\n",
        "    <tr>\n",
        "      <th>3</th>\n",
        "      <td>2487200875</td>\n",
        "      <td>20141209T000000</td>\n",
        "      <td>604000</td>\n",
        "      <td>4</td>\n",
        "      <td>3.00</td>\n",
        "      <td>1960</td>\n",
        "      <td>5000</td>\n",
        "      <td>1</td>\n",
        "      <td>0</td>\n",
        "      <td>0</td>\n",
        "      <td>...</td>\n",
        "      <td>7</td>\n",
        "      <td>1050</td>\n",
        "      <td>910</td>\n",
        "      <td>1965</td>\n",
        "      <td>0</td>\n",
        "      <td>98136</td>\n",
        "      <td>47.5208</td>\n",
        "      <td>-122.393</td>\n",
        "      <td>1360</td>\n",
        "      <td>5000</td>\n",
        "    </tr>\n",
        "    <tr>\n",
        "      <th>4</th>\n",
        "      <td>1954400510</td>\n",
        "      <td>20150218T000000</td>\n",
        "      <td>510000</td>\n",
        "      <td>3</td>\n",
        "      <td>2.00</td>\n",
        "      <td>1680</td>\n",
        "      <td>8080</td>\n",
        "      <td>1</td>\n",
        "      <td>0</td>\n",
        "      <td>0</td>\n",
        "      <td>...</td>\n",
        "      <td>8</td>\n",
        "      <td>1680</td>\n",
        "      <td>0</td>\n",
        "      <td>1987</td>\n",
        "      <td>0</td>\n",
        "      <td>98074</td>\n",
        "      <td>47.6168</td>\n",
        "      <td>-122.045</td>\n",
        "      <td>1800</td>\n",
        "      <td>7503</td>\n",
        "    </tr>\n",
        "  </tbody>\n",
        "</table>\n",
        "<p>5 rows \u00d7 21 columns</p>\n",
        "</div>"
       ],
       "metadata": {},
       "output_type": "pyout",
       "prompt_number": 3,
       "text": [
        "           id             date   price  bedrooms  bathrooms  sqft_living  \\\n",
        "0  7129300520  20141013T000000  221900         3       1.00         1180   \n",
        "1  6414100192  20141209T000000  538000         3       2.25         2570   \n",
        "2  5631500400  20150225T000000  180000         2       1.00          770   \n",
        "3  2487200875  20141209T000000  604000         4       3.00         1960   \n",
        "4  1954400510  20150218T000000  510000         3       2.00         1680   \n",
        "\n",
        "   sqft_lot floors  waterfront  view     ...      grade  sqft_above  \\\n",
        "0      5650      1           0     0     ...          7        1180   \n",
        "1      7242      2           0     0     ...          7        2170   \n",
        "2     10000      1           0     0     ...          6         770   \n",
        "3      5000      1           0     0     ...          7        1050   \n",
        "4      8080      1           0     0     ...          8        1680   \n",
        "\n",
        "   sqft_basement  yr_built  yr_renovated  zipcode      lat     long  \\\n",
        "0              0      1955             0    98178  47.5112 -122.257   \n",
        "1            400      1951          1991    98125  47.7210 -122.319   \n",
        "2              0      1933             0    98028  47.7379 -122.233   \n",
        "3            910      1965             0    98136  47.5208 -122.393   \n",
        "4              0      1987             0    98074  47.6168 -122.045   \n",
        "\n",
        "   sqft_living15  sqft_lot15  \n",
        "0           1340        5650  \n",
        "1           1690        7639  \n",
        "2           2720        8062  \n",
        "3           1360        5000  \n",
        "4           1800        7503  \n",
        "\n",
        "[5 rows x 21 columns]"
       ]
      }
     ],
     "prompt_number": 3
    },
    {
     "cell_type": "code",
     "collapsed": false,
     "input": [
      "kc_testing = pd.read_csv('kc_house_test_data.csv', sep = ',', dtype = {'bathrooms':float, 'waterfront':int, 'sqft_above':int, 'sqft_living15':float, 'grade':int, 'yr_renovated':int, 'price':float, 'bedrooms':float, 'zipcode':str, 'long':float, 'sqft_lot15':float, 'sqft_living':float, 'floors':str, 'condition':int, 'lat':float, 'date':str, 'sqft_basement':int, 'yr_built':int, 'id':str, 'sqft_lot':int, 'view':int})"
     ],
     "language": "python",
     "metadata": {},
     "outputs": [],
     "prompt_number": 4
    },
    {
     "cell_type": "code",
     "collapsed": false,
     "input": [
      "kc_testing.head()"
     ],
     "language": "python",
     "metadata": {},
     "outputs": [
      {
       "html": [
        "<div style=\"max-height:1000px;max-width:1500px;overflow:auto;\">\n",
        "<table border=\"1\" class=\"dataframe\">\n",
        "  <thead>\n",
        "    <tr style=\"text-align: right;\">\n",
        "      <th></th>\n",
        "      <th>id</th>\n",
        "      <th>date</th>\n",
        "      <th>price</th>\n",
        "      <th>bedrooms</th>\n",
        "      <th>bathrooms</th>\n",
        "      <th>sqft_living</th>\n",
        "      <th>sqft_lot</th>\n",
        "      <th>floors</th>\n",
        "      <th>waterfront</th>\n",
        "      <th>view</th>\n",
        "      <th>...</th>\n",
        "      <th>grade</th>\n",
        "      <th>sqft_above</th>\n",
        "      <th>sqft_basement</th>\n",
        "      <th>yr_built</th>\n",
        "      <th>yr_renovated</th>\n",
        "      <th>zipcode</th>\n",
        "      <th>lat</th>\n",
        "      <th>long</th>\n",
        "      <th>sqft_living15</th>\n",
        "      <th>sqft_lot15</th>\n",
        "    </tr>\n",
        "  </thead>\n",
        "  <tbody>\n",
        "    <tr>\n",
        "      <th>0</th>\n",
        "      <td>0114101516</td>\n",
        "      <td>20140528T000000</td>\n",
        "      <td>310000</td>\n",
        "      <td>3</td>\n",
        "      <td>1.0</td>\n",
        "      <td>1430</td>\n",
        "      <td>19901</td>\n",
        "      <td>1.5</td>\n",
        "      <td>0</td>\n",
        "      <td>0</td>\n",
        "      <td>...</td>\n",
        "      <td>7</td>\n",
        "      <td>1430</td>\n",
        "      <td>0</td>\n",
        "      <td>1927</td>\n",
        "      <td>0</td>\n",
        "      <td>98028</td>\n",
        "      <td>47.7558</td>\n",
        "      <td>-122.229</td>\n",
        "      <td>1780</td>\n",
        "      <td>12697</td>\n",
        "    </tr>\n",
        "    <tr>\n",
        "      <th>1</th>\n",
        "      <td>9297300055</td>\n",
        "      <td>20150124T000000</td>\n",
        "      <td>650000</td>\n",
        "      <td>4</td>\n",
        "      <td>3.0</td>\n",
        "      <td>2950</td>\n",
        "      <td>5000</td>\n",
        "      <td>2</td>\n",
        "      <td>0</td>\n",
        "      <td>3</td>\n",
        "      <td>...</td>\n",
        "      <td>9</td>\n",
        "      <td>1980</td>\n",
        "      <td>970</td>\n",
        "      <td>1979</td>\n",
        "      <td>0</td>\n",
        "      <td>98126</td>\n",
        "      <td>47.5714</td>\n",
        "      <td>-122.375</td>\n",
        "      <td>2140</td>\n",
        "      <td>4000</td>\n",
        "    </tr>\n",
        "    <tr>\n",
        "      <th>2</th>\n",
        "      <td>1202000200</td>\n",
        "      <td>20141103T000000</td>\n",
        "      <td>233000</td>\n",
        "      <td>3</td>\n",
        "      <td>2.0</td>\n",
        "      <td>1710</td>\n",
        "      <td>4697</td>\n",
        "      <td>1.5</td>\n",
        "      <td>0</td>\n",
        "      <td>0</td>\n",
        "      <td>...</td>\n",
        "      <td>6</td>\n",
        "      <td>1710</td>\n",
        "      <td>0</td>\n",
        "      <td>1941</td>\n",
        "      <td>0</td>\n",
        "      <td>98002</td>\n",
        "      <td>47.3048</td>\n",
        "      <td>-122.218</td>\n",
        "      <td>1030</td>\n",
        "      <td>4705</td>\n",
        "    </tr>\n",
        "    <tr>\n",
        "      <th>3</th>\n",
        "      <td>8562750320</td>\n",
        "      <td>20141110T000000</td>\n",
        "      <td>580500</td>\n",
        "      <td>3</td>\n",
        "      <td>2.5</td>\n",
        "      <td>2320</td>\n",
        "      <td>3980</td>\n",
        "      <td>2</td>\n",
        "      <td>0</td>\n",
        "      <td>0</td>\n",
        "      <td>...</td>\n",
        "      <td>8</td>\n",
        "      <td>2320</td>\n",
        "      <td>0</td>\n",
        "      <td>2003</td>\n",
        "      <td>0</td>\n",
        "      <td>98027</td>\n",
        "      <td>47.5391</td>\n",
        "      <td>-122.070</td>\n",
        "      <td>2580</td>\n",
        "      <td>3980</td>\n",
        "    </tr>\n",
        "    <tr>\n",
        "      <th>4</th>\n",
        "      <td>7589200193</td>\n",
        "      <td>20141110T000000</td>\n",
        "      <td>535000</td>\n",
        "      <td>3</td>\n",
        "      <td>1.0</td>\n",
        "      <td>1090</td>\n",
        "      <td>3000</td>\n",
        "      <td>1.5</td>\n",
        "      <td>0</td>\n",
        "      <td>0</td>\n",
        "      <td>...</td>\n",
        "      <td>8</td>\n",
        "      <td>1090</td>\n",
        "      <td>0</td>\n",
        "      <td>1929</td>\n",
        "      <td>0</td>\n",
        "      <td>98117</td>\n",
        "      <td>47.6889</td>\n",
        "      <td>-122.375</td>\n",
        "      <td>1570</td>\n",
        "      <td>5080</td>\n",
        "    </tr>\n",
        "  </tbody>\n",
        "</table>\n",
        "<p>5 rows \u00d7 21 columns</p>\n",
        "</div>"
       ],
       "metadata": {},
       "output_type": "pyout",
       "prompt_number": 5,
       "text": [
        "           id             date   price  bedrooms  bathrooms  sqft_living  \\\n",
        "0  0114101516  20140528T000000  310000         3        1.0         1430   \n",
        "1  9297300055  20150124T000000  650000         4        3.0         2950   \n",
        "2  1202000200  20141103T000000  233000         3        2.0         1710   \n",
        "3  8562750320  20141110T000000  580500         3        2.5         2320   \n",
        "4  7589200193  20141110T000000  535000         3        1.0         1090   \n",
        "\n",
        "   sqft_lot floors  waterfront  view     ...      grade  sqft_above  \\\n",
        "0     19901    1.5           0     0     ...          7        1430   \n",
        "1      5000      2           0     3     ...          9        1980   \n",
        "2      4697    1.5           0     0     ...          6        1710   \n",
        "3      3980      2           0     0     ...          8        2320   \n",
        "4      3000    1.5           0     0     ...          8        1090   \n",
        "\n",
        "   sqft_basement  yr_built  yr_renovated  zipcode      lat     long  \\\n",
        "0              0      1927             0    98028  47.7558 -122.229   \n",
        "1            970      1979             0    98126  47.5714 -122.375   \n",
        "2              0      1941             0    98002  47.3048 -122.218   \n",
        "3              0      2003             0    98027  47.5391 -122.070   \n",
        "4              0      1929             0    98117  47.6889 -122.375   \n",
        "\n",
        "   sqft_living15  sqft_lot15  \n",
        "0           1780       12697  \n",
        "1           2140        4000  \n",
        "2           1030        4705  \n",
        "3           2580        3980  \n",
        "4           1570        5080  \n",
        "\n",
        "[5 rows x 21 columns]"
       ]
      }
     ],
     "prompt_number": 5
    },
    {
     "cell_type": "heading",
     "level": 1,
     "metadata": {},
     "source": [
      "Calculate Parameters of Linear Regression Function Using the Closed Form Approach"
     ]
    },
    {
     "cell_type": "code",
     "collapsed": false,
     "input": [
      "def simple_linear_regression(input_feature, output):\n",
      "    slope = (sum(input_feature*output) - (sum(input_feature)*sum(output)/len(output))) / (sum(input_feature**2) - (sum(input_feature)*sum(input_feature)/len(input_feature)))\n",
      "    intercept = sum(output)/len(output) - slope * sum(input_feature)/len(input_feature)\n",
      "    return(intercept, slope)"
     ],
     "language": "python",
     "metadata": {},
     "outputs": [],
     "prompt_number": 6
    },
    {
     "cell_type": "code",
     "collapsed": false,
     "input": [
      "result = simple_linear_regression(kc_training['sqft_living'], kc_training['price'])\n",
      "squarefeet_intercept = result[0]\n",
      "squarefeet_slope = result[1]\n",
      "\n",
      "print \"Intercept is {:.2f}.\" .format(squarefeet_intercept)\n",
      "print \"Slope is {:.2f}.\" .format(squarefeet_slope)"
     ],
     "language": "python",
     "metadata": {},
     "outputs": [
      {
       "output_type": "stream",
       "stream": "stdout",
       "text": [
        "Intercept is -47116.08.\n",
        "Slope is 281.96.\n"
       ]
      }
     ],
     "prompt_number": 7
    },
    {
     "cell_type": "heading",
     "level": 3,
     "metadata": {},
     "source": [
      "Write a function that accepts a column of data \u2018input_feature\u2019, the \u2018slope\u2019, and the \u2018intercept\u2019, and returns an a column of predictions \u2018predicted_output\u2019 for each entry in the input column."
     ]
    },
    {
     "cell_type": "code",
     "collapsed": false,
     "input": [
      "def get_regression_predications(input_feature, intercept, slope):\n",
      "    predicated_output = intercept + slope*input_feature\n",
      "    return(predicated_output)"
     ],
     "language": "python",
     "metadata": {},
     "outputs": [],
     "prompt_number": 8
    },
    {
     "cell_type": "code",
     "collapsed": false,
     "input": [
      "output = get_regression_predications(2650, squarefeet_intercept, squarefeet_slope)\n",
      "print \"Predicted output is {:.2f}.\" .format(output)"
     ],
     "language": "python",
     "metadata": {},
     "outputs": [
      {
       "output_type": "stream",
       "stream": "stdout",
       "text": [
        "Predicted output is 700074.85.\n"
       ]
      }
     ],
     "prompt_number": 9
    },
    {
     "cell_type": "heading",
     "level": 3,
     "metadata": {},
     "source": [
      "Write a function that accepts column of data: \u2018input_feature\u2019, and \u2018output\u2019 and the regression parameters \u2018slope\u2019 and \u2018intercept\u2019 and outputs the Residual Sum of Squares (RSS)."
     ]
    },
    {
     "cell_type": "code",
     "collapsed": false,
     "input": [
      "def get_residual_sum_of_squares(input_feature, output, intercept, slope):\n",
      "    predicated_output = intercept + slope*input_feature\n",
      "    predication_error = output - predicated_output\n",
      "    RSS = sum(predication_error ** 2)\n",
      "    return(RSS)"
     ],
     "language": "python",
     "metadata": {},
     "outputs": [],
     "prompt_number": 10
    },
    {
     "cell_type": "code",
     "collapsed": false,
     "input": [
      "RSS = get_residual_sum_of_squares(kc_training['sqft_living'], kc_training['price'], squarefeet_intercept, squarefeet_slope)\n",
      "print \"RSS is {:.2f}.\" .format(RSS)"
     ],
     "language": "python",
     "metadata": {},
     "outputs": [
      {
       "output_type": "stream",
       "stream": "stdout",
       "text": [
        "RSS is 1201918354177283.25.\n"
       ]
      }
     ],
     "prompt_number": 11
    },
    {
     "cell_type": "heading",
     "level": 3,
     "metadata": {},
     "source": [
      "Write a function that accept a column of data:\u2018output\u2019 and the regression parameters \u2018slope\u2019 and \u2018intercept\u2019 and outputs the column of data: \u2018estimated_input\u2019. "
     ]
    },
    {
     "cell_type": "code",
     "collapsed": false,
     "input": [
      "def inverse_regression_prediction(output, intercept, slope):\n",
      "    estimated_input = (output - intercept) / slope\n",
      "    return(estimated_input)"
     ],
     "language": "python",
     "metadata": {},
     "outputs": [],
     "prompt_number": 12
    },
    {
     "cell_type": "code",
     "collapsed": false,
     "input": [
      "estimated_input = inverse_regression_prediction(800000, squarefeet_intercept, squarefeet_slope)\n",
      "print \"The estimated square feet is {:.2f}.\" .format(estimated_input)"
     ],
     "language": "python",
     "metadata": {},
     "outputs": [
      {
       "output_type": "stream",
       "stream": "stdout",
       "text": [
        "The estimated square feet is 3004.40.\n"
       ]
      }
     ],
     "prompt_number": 13
    },
    {
     "cell_type": "heading",
     "level": 3,
     "metadata": {},
     "source": [
      "Use \u2018bedrooms\u2019 (a count of the number of bedrooms in the house) to estimate prices"
     ]
    },
    {
     "cell_type": "code",
     "collapsed": false,
     "input": [
      "bedrooms_as_input = simple_linear_regression(kc_training['bedrooms'], kc_training['price'])\n",
      "bedroom_intercept = bedrooms_as_input[0]\n",
      "bedroom_slope = bedrooms_as_input[1]\n",
      "\n",
      "print \"Intercept is {:.2f}.\" .format(bedroom_intercept)\n",
      "print \"Slope is {:.2f}.\" .format(bedroom_slope)"
     ],
     "language": "python",
     "metadata": {},
     "outputs": [
      {
       "output_type": "stream",
       "stream": "stdout",
       "text": [
        "Intercept is 109473.18.\n",
        "Slope is 127588.95.\n"
       ]
      }
     ],
     "prompt_number": 14
    },
    {
     "cell_type": "heading",
     "level": 3,
     "metadata": {},
     "source": [
      "Compute the RSS from BOTH models on TEST data"
     ]
    },
    {
     "cell_type": "code",
     "collapsed": false,
     "input": [
      "RSS_sqft_living = get_residual_sum_of_squares(kc_testing['sqft_living'], kc_testing['price'], squarefeet_intercept, squarefeet_slope)\n",
      "RSS_bedroom = get_residual_sum_of_squares(kc_testing['bedrooms'], kc_testing['price'], bedroom_intercept, bedroom_slope)\n",
      "\n",
      "difference = RSS_sqft_living - RSS_bedroom\n",
      "\n",
      "print \"RSS using sqft_living is {:.2f}.\" .format(RSS_sqft_living)\n",
      "print \"RSS using bedroom is {:.2f}.\" .format(RSS_bedroom)\n",
      "\n",
      "if difference < 0:\n",
      "    print \"Square feet model has lowest RSS on TEST data.\"\n",
      "elif difference > 0:\n",
      "    print \"Bedroom model has lowest RSS on TEST data.\"\n",
      "else:\n",
      "    print \"Square feet model and bedroom model has the same RSS on TEST data.\""
     ],
     "language": "python",
     "metadata": {},
     "outputs": [
      {
       "output_type": "stream",
       "stream": "stdout",
       "text": [
        "RSS using sqft_living is 275402933617812.12.\n",
        "RSS using bedroom is 493364585960300.88.\n",
        "Square feet model has lowest RSS on TEST data.\n"
       ]
      }
     ],
     "prompt_number": 15
    }
   ],
   "metadata": {}
  }
 ]
}